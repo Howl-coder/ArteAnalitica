{
  "nbformat": 4,
  "nbformat_minor": 0,
  "metadata": {
    "colab": {
      "name": "Untitled2.ipynb",
      "provenance": [],
      "collapsed_sections": [],
      "authorship_tag": "ABX9TyPYAiCE71xekffq5sFXj9k9",
      "include_colab_link": true
    },
    "kernelspec": {
      "name": "python3",
      "display_name": "Python 3"
    },
    "language_info": {
      "name": "python"
    }
  },
  "cells": [
    {
      "cell_type": "markdown",
      "metadata": {
        "id": "view-in-github",
        "colab_type": "text"
      },
      "source": [
        "<a href=\"https://colab.research.google.com/github/Howl-coder/ArteAnalitica/blob/main/Mapas%20de%20calor%20y%20boxplots.ipynb\" target=\"_parent\"><img src=\"https://colab.research.google.com/assets/colab-badge.svg\" alt=\"Open In Colab\"/></a>"
      ]
    },
    {
      "cell_type": "code",
      "execution_count": 1,
      "metadata": {
        "id": "5ddfblSIP4z8"
      },
      "outputs": [],
      "source": [
        "import pandas as pd\n",
        "import seaborn as sns\n",
        "sns.set_theme(style=\"white\")"
      ]
    },
    {
      "cell_type": "code",
      "source": [
        "df= pd.read_csv(\"ulabox_orders_with_categories_partials_2017.csv\")"
      ],
      "metadata": {
        "id": "fzLh95joQJSf"
      },
      "execution_count": 3,
      "outputs": []
    },
    {
      "cell_type": "code",
      "source": [
        "print(\" renglones: \", df.shape[0])\n",
        "print(\"columnas : \", df.shape[1])\n"
      ],
      "metadata": {
        "colab": {
          "base_uri": "https://localhost:8080/"
        },
        "id": "4IUBX-GEQNXz",
        "outputId": "cac4d23e-4b5f-41e9-f0d7-6601ee7076a6"
      },
      "execution_count": 4,
      "outputs": [
        {
          "output_type": "stream",
          "name": "stdout",
          "text": [
            " renglones:  30000\n",
            "columnas :  14\n"
          ]
        }
      ]
    },
    {
      "cell_type": "code",
      "source": [
        "df.describe()"
      ],
      "metadata": {
        "colab": {
          "base_uri": "https://localhost:8080/",
          "height": 364
        },
        "id": "ReQCAGJdQmtz",
        "outputId": "f4965cfa-e492-4351-9969-da1425f5335d"
      },
      "execution_count": 5,
      "outputs": [
        {
          "output_type": "execute_result",
          "data": {
            "text/plain": [
              "           customer         order   total_items     discount%       weekday  \\\n",
              "count  30000.000000  30000.000000  30000.000000  30000.000000  30000.000000   \n",
              "mean    5012.483367  14999.500000     31.739933      8.455495      3.642367   \n",
              "std     2888.646245   8660.398374     20.576579     14.199350      2.122031   \n",
              "min        0.000000      0.000000      1.000000    -65.150000      1.000000   \n",
              "25%     2541.750000   7499.750000     18.000000      1.177500      2.000000   \n",
              "50%     5043.000000  14999.500000     29.000000      4.160000      3.000000   \n",
              "75%     7483.000000  22499.250000     41.000000      9.990000      5.000000   \n",
              "max    10238.000000  29999.000000    298.000000    100.000000      7.000000   \n",
              "\n",
              "               hour         Food%        Fresh%       Drinks%         Home%  \\\n",
              "count  30000.000000  30000.000000  30000.000000  30000.000000  30000.000000   \n",
              "mean      15.034667     23.560406     20.227279     23.349235     13.539575   \n",
              "std        5.717052     21.719824     23.661767     22.523335     17.850282   \n",
              "min        0.000000      0.000000      0.000000      0.000000      0.000000   \n",
              "25%       11.000000      7.220000      0.000000      6.710000      0.000000   \n",
              "50%       15.000000     19.650000     10.930000     17.890000      7.210000   \n",
              "75%       20.000000     33.260000     35.790000     33.162500     20.002500   \n",
              "max       23.000000    100.000000    100.000000    100.000000    100.000000   \n",
              "\n",
              "            Beauty%       Health%         Baby%         Pets%  \n",
              "count  30000.000000  30000.000000  30000.000000  30000.000000  \n",
              "mean       5.892949      1.132959     11.096145      1.043087  \n",
              "std       13.996518      5.307620     24.740364      6.195390  \n",
              "min        0.000000      0.000000      0.000000      0.000000  \n",
              "25%        0.000000      0.000000      0.000000      0.000000  \n",
              "50%        0.000000      0.000000      0.000000      0.000000  \n",
              "75%        6.512500      0.000000      4.172500      0.000000  \n",
              "max      100.000000    100.000000    100.000000    100.000000  "
            ],
            "text/html": [
              "\n",
              "  <div id=\"df-4b4e6957-7b77-4f30-aa29-9e093308d6c6\">\n",
              "    <div class=\"colab-df-container\">\n",
              "      <div>\n",
              "<style scoped>\n",
              "    .dataframe tbody tr th:only-of-type {\n",
              "        vertical-align: middle;\n",
              "    }\n",
              "\n",
              "    .dataframe tbody tr th {\n",
              "        vertical-align: top;\n",
              "    }\n",
              "\n",
              "    .dataframe thead th {\n",
              "        text-align: right;\n",
              "    }\n",
              "</style>\n",
              "<table border=\"1\" class=\"dataframe\">\n",
              "  <thead>\n",
              "    <tr style=\"text-align: right;\">\n",
              "      <th></th>\n",
              "      <th>customer</th>\n",
              "      <th>order</th>\n",
              "      <th>total_items</th>\n",
              "      <th>discount%</th>\n",
              "      <th>weekday</th>\n",
              "      <th>hour</th>\n",
              "      <th>Food%</th>\n",
              "      <th>Fresh%</th>\n",
              "      <th>Drinks%</th>\n",
              "      <th>Home%</th>\n",
              "      <th>Beauty%</th>\n",
              "      <th>Health%</th>\n",
              "      <th>Baby%</th>\n",
              "      <th>Pets%</th>\n",
              "    </tr>\n",
              "  </thead>\n",
              "  <tbody>\n",
              "    <tr>\n",
              "      <th>count</th>\n",
              "      <td>30000.000000</td>\n",
              "      <td>30000.000000</td>\n",
              "      <td>30000.000000</td>\n",
              "      <td>30000.000000</td>\n",
              "      <td>30000.000000</td>\n",
              "      <td>30000.000000</td>\n",
              "      <td>30000.000000</td>\n",
              "      <td>30000.000000</td>\n",
              "      <td>30000.000000</td>\n",
              "      <td>30000.000000</td>\n",
              "      <td>30000.000000</td>\n",
              "      <td>30000.000000</td>\n",
              "      <td>30000.000000</td>\n",
              "      <td>30000.000000</td>\n",
              "    </tr>\n",
              "    <tr>\n",
              "      <th>mean</th>\n",
              "      <td>5012.483367</td>\n",
              "      <td>14999.500000</td>\n",
              "      <td>31.739933</td>\n",
              "      <td>8.455495</td>\n",
              "      <td>3.642367</td>\n",
              "      <td>15.034667</td>\n",
              "      <td>23.560406</td>\n",
              "      <td>20.227279</td>\n",
              "      <td>23.349235</td>\n",
              "      <td>13.539575</td>\n",
              "      <td>5.892949</td>\n",
              "      <td>1.132959</td>\n",
              "      <td>11.096145</td>\n",
              "      <td>1.043087</td>\n",
              "    </tr>\n",
              "    <tr>\n",
              "      <th>std</th>\n",
              "      <td>2888.646245</td>\n",
              "      <td>8660.398374</td>\n",
              "      <td>20.576579</td>\n",
              "      <td>14.199350</td>\n",
              "      <td>2.122031</td>\n",
              "      <td>5.717052</td>\n",
              "      <td>21.719824</td>\n",
              "      <td>23.661767</td>\n",
              "      <td>22.523335</td>\n",
              "      <td>17.850282</td>\n",
              "      <td>13.996518</td>\n",
              "      <td>5.307620</td>\n",
              "      <td>24.740364</td>\n",
              "      <td>6.195390</td>\n",
              "    </tr>\n",
              "    <tr>\n",
              "      <th>min</th>\n",
              "      <td>0.000000</td>\n",
              "      <td>0.000000</td>\n",
              "      <td>1.000000</td>\n",
              "      <td>-65.150000</td>\n",
              "      <td>1.000000</td>\n",
              "      <td>0.000000</td>\n",
              "      <td>0.000000</td>\n",
              "      <td>0.000000</td>\n",
              "      <td>0.000000</td>\n",
              "      <td>0.000000</td>\n",
              "      <td>0.000000</td>\n",
              "      <td>0.000000</td>\n",
              "      <td>0.000000</td>\n",
              "      <td>0.000000</td>\n",
              "    </tr>\n",
              "    <tr>\n",
              "      <th>25%</th>\n",
              "      <td>2541.750000</td>\n",
              "      <td>7499.750000</td>\n",
              "      <td>18.000000</td>\n",
              "      <td>1.177500</td>\n",
              "      <td>2.000000</td>\n",
              "      <td>11.000000</td>\n",
              "      <td>7.220000</td>\n",
              "      <td>0.000000</td>\n",
              "      <td>6.710000</td>\n",
              "      <td>0.000000</td>\n",
              "      <td>0.000000</td>\n",
              "      <td>0.000000</td>\n",
              "      <td>0.000000</td>\n",
              "      <td>0.000000</td>\n",
              "    </tr>\n",
              "    <tr>\n",
              "      <th>50%</th>\n",
              "      <td>5043.000000</td>\n",
              "      <td>14999.500000</td>\n",
              "      <td>29.000000</td>\n",
              "      <td>4.160000</td>\n",
              "      <td>3.000000</td>\n",
              "      <td>15.000000</td>\n",
              "      <td>19.650000</td>\n",
              "      <td>10.930000</td>\n",
              "      <td>17.890000</td>\n",
              "      <td>7.210000</td>\n",
              "      <td>0.000000</td>\n",
              "      <td>0.000000</td>\n",
              "      <td>0.000000</td>\n",
              "      <td>0.000000</td>\n",
              "    </tr>\n",
              "    <tr>\n",
              "      <th>75%</th>\n",
              "      <td>7483.000000</td>\n",
              "      <td>22499.250000</td>\n",
              "      <td>41.000000</td>\n",
              "      <td>9.990000</td>\n",
              "      <td>5.000000</td>\n",
              "      <td>20.000000</td>\n",
              "      <td>33.260000</td>\n",
              "      <td>35.790000</td>\n",
              "      <td>33.162500</td>\n",
              "      <td>20.002500</td>\n",
              "      <td>6.512500</td>\n",
              "      <td>0.000000</td>\n",
              "      <td>4.172500</td>\n",
              "      <td>0.000000</td>\n",
              "    </tr>\n",
              "    <tr>\n",
              "      <th>max</th>\n",
              "      <td>10238.000000</td>\n",
              "      <td>29999.000000</td>\n",
              "      <td>298.000000</td>\n",
              "      <td>100.000000</td>\n",
              "      <td>7.000000</td>\n",
              "      <td>23.000000</td>\n",
              "      <td>100.000000</td>\n",
              "      <td>100.000000</td>\n",
              "      <td>100.000000</td>\n",
              "      <td>100.000000</td>\n",
              "      <td>100.000000</td>\n",
              "      <td>100.000000</td>\n",
              "      <td>100.000000</td>\n",
              "      <td>100.000000</td>\n",
              "    </tr>\n",
              "  </tbody>\n",
              "</table>\n",
              "</div>\n",
              "      <button class=\"colab-df-convert\" onclick=\"convertToInteractive('df-4b4e6957-7b77-4f30-aa29-9e093308d6c6')\"\n",
              "              title=\"Convert this dataframe to an interactive table.\"\n",
              "              style=\"display:none;\">\n",
              "        \n",
              "  <svg xmlns=\"http://www.w3.org/2000/svg\" height=\"24px\"viewBox=\"0 0 24 24\"\n",
              "       width=\"24px\">\n",
              "    <path d=\"M0 0h24v24H0V0z\" fill=\"none\"/>\n",
              "    <path d=\"M18.56 5.44l.94 2.06.94-2.06 2.06-.94-2.06-.94-.94-2.06-.94 2.06-2.06.94zm-11 1L8.5 8.5l.94-2.06 2.06-.94-2.06-.94L8.5 2.5l-.94 2.06-2.06.94zm10 10l.94 2.06.94-2.06 2.06-.94-2.06-.94-.94-2.06-.94 2.06-2.06.94z\"/><path d=\"M17.41 7.96l-1.37-1.37c-.4-.4-.92-.59-1.43-.59-.52 0-1.04.2-1.43.59L10.3 9.45l-7.72 7.72c-.78.78-.78 2.05 0 2.83L4 21.41c.39.39.9.59 1.41.59.51 0 1.02-.2 1.41-.59l7.78-7.78 2.81-2.81c.8-.78.8-2.07 0-2.86zM5.41 20L4 18.59l7.72-7.72 1.47 1.35L5.41 20z\"/>\n",
              "  </svg>\n",
              "      </button>\n",
              "      \n",
              "  <style>\n",
              "    .colab-df-container {\n",
              "      display:flex;\n",
              "      flex-wrap:wrap;\n",
              "      gap: 12px;\n",
              "    }\n",
              "\n",
              "    .colab-df-convert {\n",
              "      background-color: #E8F0FE;\n",
              "      border: none;\n",
              "      border-radius: 50%;\n",
              "      cursor: pointer;\n",
              "      display: none;\n",
              "      fill: #1967D2;\n",
              "      height: 32px;\n",
              "      padding: 0 0 0 0;\n",
              "      width: 32px;\n",
              "    }\n",
              "\n",
              "    .colab-df-convert:hover {\n",
              "      background-color: #E2EBFA;\n",
              "      box-shadow: 0px 1px 2px rgba(60, 64, 67, 0.3), 0px 1px 3px 1px rgba(60, 64, 67, 0.15);\n",
              "      fill: #174EA6;\n",
              "    }\n",
              "\n",
              "    [theme=dark] .colab-df-convert {\n",
              "      background-color: #3B4455;\n",
              "      fill: #D2E3FC;\n",
              "    }\n",
              "\n",
              "    [theme=dark] .colab-df-convert:hover {\n",
              "      background-color: #434B5C;\n",
              "      box-shadow: 0px 1px 3px 1px rgba(0, 0, 0, 0.15);\n",
              "      filter: drop-shadow(0px 1px 2px rgba(0, 0, 0, 0.3));\n",
              "      fill: #FFFFFF;\n",
              "    }\n",
              "  </style>\n",
              "\n",
              "      <script>\n",
              "        const buttonEl =\n",
              "          document.querySelector('#df-4b4e6957-7b77-4f30-aa29-9e093308d6c6 button.colab-df-convert');\n",
              "        buttonEl.style.display =\n",
              "          google.colab.kernel.accessAllowed ? 'block' : 'none';\n",
              "\n",
              "        async function convertToInteractive(key) {\n",
              "          const element = document.querySelector('#df-4b4e6957-7b77-4f30-aa29-9e093308d6c6');\n",
              "          const dataTable =\n",
              "            await google.colab.kernel.invokeFunction('convertToInteractive',\n",
              "                                                     [key], {});\n",
              "          if (!dataTable) return;\n",
              "\n",
              "          const docLinkHtml = 'Like what you see? Visit the ' +\n",
              "            '<a target=\"_blank\" href=https://colab.research.google.com/notebooks/data_table.ipynb>data table notebook</a>'\n",
              "            + ' to learn more about interactive tables.';\n",
              "          element.innerHTML = '';\n",
              "          dataTable['output_type'] = 'display_data';\n",
              "          await google.colab.output.renderOutput(dataTable, element);\n",
              "          const docLink = document.createElement('div');\n",
              "          docLink.innerHTML = docLinkHtml;\n",
              "          element.appendChild(docLink);\n",
              "        }\n",
              "      </script>\n",
              "    </div>\n",
              "  </div>\n",
              "  "
            ]
          },
          "metadata": {},
          "execution_count": 5
        }
      ]
    },
    {
      "cell_type": "code",
      "source": [
        "sns.displot(x=\"weekday\", data=df)"
      ],
      "metadata": {
        "colab": {
          "base_uri": "https://localhost:8080/",
          "height": 386
        },
        "id": "xjw-Yu29RVlb",
        "outputId": "c56b64be-88ee-497d-f6e9-eb071c5a4ce9"
      },
      "execution_count": 6,
      "outputs": [
        {
          "output_type": "execute_result",
          "data": {
            "text/plain": [
              "<seaborn.axisgrid.FacetGrid at 0x7fda7ce4b150>"
            ]
          },
          "metadata": {},
          "execution_count": 6
        },
        {
          "output_type": "display_data",
          "data": {
            "text/plain": [
              "<Figure size 360x360 with 1 Axes>"
            ],
            "image/png": "[encoded data removed]"
          },
          "metadata": {
            "needs_background": "light"
          }
        }
      ]
    },
    {
      "cell_type": "code",
      "source": [
        "sns.scatterplot(data=df, x=\"hour\", y=\"total_items\")"
      ],
      "metadata": {
        "colab": {
          "base_uri": "https://localhost:8080/",
          "height": 302
        },
        "id": "4S92ivAGRWEn",
        "outputId": "069a0b2a-d55d-4a24-9cd5-758af962dc2b"
      },
      "execution_count": 7,
      "outputs": [
        {
          "output_type": "execute_result",
          "data": {
            "text/plain": [
              "<matplotlib.axes._subplots.AxesSubplot at 0x7fda7a533e10>"
            ]
          },
          "metadata": {},
          "execution_count": 7
        },
        {
          "output_type": "display_data",
          "data": {
            "text/plain": [
              "<Figure size 432x288 with 1 Axes>"
            ],
            "image/png": "[encoded data removed]"
          },
          "metadata": {
            "needs_background": "light"
          }
        }
      ]
    }
  ]
}